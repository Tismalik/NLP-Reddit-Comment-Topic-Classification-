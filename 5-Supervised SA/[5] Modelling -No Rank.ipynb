{
 "cells": [
  {
   "cell_type": "markdown",
   "metadata": {},
   "source": [
    "# Modelling - Evaluation:\n",
    "<h3> In this Notebook i'll first split the dataframe which now contains the wordembedding vector representation for \n",
    " the comment and topic columns, into Training and Test set at 70:30 </h3>\n",
    "\n",
    "<h3> Next: We'll apply the following models \"listed below\" to our data and then use accuracy to measure the model with the best performance \n",
    "    <p>The chossen model will then be Tested on unseen data and  explored using other Evaluation Metrics.</p>\n",
    "    <p>S/N: Elements of Grid Search are be used to tune Hyperparameter for MLP</P>\n",
    "</h3>\n",
    "\n",
    "<p>\n",
    "<ul>\n",
    "    <li> Support Vector Machine</li>\n",
    "    <li> Logistic Regression (X) </li>\n",
    "    <li> RandomForest</li>\n",
    "    <li> XGBoost / LSTM Neural Network / MLP </li>\n",
    "    <li> Naive Bayes (X)</li>\n",
    "</ul>\n",
    "</p>\n",
    "\n",
    "<h3> Here are some evaluation metric we'll be using for the model</h3>\n",
    "<p>\n",
    "<ul>\n",
    "    <li> F1 score</li>\n",
    "    <li> Accuracy </li>\n",
    "    <li> Precision</li>\n",
    "    <li> Recall </li>\n",
    "    <li> Confusion Matrix</li>\n",
    "</ul>\n",
    "</p>"
   ]
  },
  {
   "cell_type": "code",
   "execution_count": 1,
   "metadata": {},
   "outputs": [
    {
     "data": {
      "text/html": [
       "<div>\n",
       "<style scoped>\n",
       "    .dataframe tbody tr th:only-of-type {\n",
       "        vertical-align: middle;\n",
       "    }\n",
       "\n",
       "    .dataframe tbody tr th {\n",
       "        vertical-align: top;\n",
       "    }\n",
       "\n",
       "    .dataframe thead th {\n",
       "        text-align: right;\n",
       "    }\n",
       "</style>\n",
       "<table border=\"1\" class=\"dataframe\">\n",
       "  <thead>\n",
       "    <tr style=\"text-align: right;\">\n",
       "      <th></th>\n",
       "      <th>target</th>\n",
       "      <th>a</th>\n",
       "      <th>b</th>\n",
       "      <th>c</th>\n",
       "      <th>d</th>\n",
       "      <th>e</th>\n",
       "      <th>f</th>\n",
       "      <th>0</th>\n",
       "      <th>1</th>\n",
       "      <th>2</th>\n",
       "      <th>...</th>\n",
       "      <th>190.1</th>\n",
       "      <th>191.1</th>\n",
       "      <th>192.1</th>\n",
       "      <th>193.1</th>\n",
       "      <th>194.1</th>\n",
       "      <th>195.1</th>\n",
       "      <th>196.1</th>\n",
       "      <th>197.1</th>\n",
       "      <th>198.1</th>\n",
       "      <th>199.1</th>\n",
       "    </tr>\n",
       "  </thead>\n",
       "  <tbody>\n",
       "    <tr>\n",
       "      <th>0</th>\n",
       "      <td>pos</td>\n",
       "      <td>0.0</td>\n",
       "      <td>0.0</td>\n",
       "      <td>1.0</td>\n",
       "      <td>0.0</td>\n",
       "      <td>1.0</td>\n",
       "      <td>0.0</td>\n",
       "      <td>0.017109</td>\n",
       "      <td>-0.238943</td>\n",
       "      <td>0.162469</td>\n",
       "      <td>...</td>\n",
       "      <td>-0.210758</td>\n",
       "      <td>-0.143869</td>\n",
       "      <td>-0.042304</td>\n",
       "      <td>-0.194833</td>\n",
       "      <td>-0.047312</td>\n",
       "      <td>0.333067</td>\n",
       "      <td>0.017274</td>\n",
       "      <td>0.100887</td>\n",
       "      <td>0.197245</td>\n",
       "      <td>0.005664</td>\n",
       "    </tr>\n",
       "    <tr>\n",
       "      <th>1</th>\n",
       "      <td>pos</td>\n",
       "      <td>0.0</td>\n",
       "      <td>0.0</td>\n",
       "      <td>1.0</td>\n",
       "      <td>0.0</td>\n",
       "      <td>1.0</td>\n",
       "      <td>0.0</td>\n",
       "      <td>0.051815</td>\n",
       "      <td>-0.113376</td>\n",
       "      <td>0.018852</td>\n",
       "      <td>...</td>\n",
       "      <td>-0.210758</td>\n",
       "      <td>-0.143869</td>\n",
       "      <td>-0.042304</td>\n",
       "      <td>-0.194833</td>\n",
       "      <td>-0.047312</td>\n",
       "      <td>0.333067</td>\n",
       "      <td>0.017274</td>\n",
       "      <td>0.100887</td>\n",
       "      <td>0.197245</td>\n",
       "      <td>0.005664</td>\n",
       "    </tr>\n",
       "    <tr>\n",
       "      <th>2</th>\n",
       "      <td>pos</td>\n",
       "      <td>0.0</td>\n",
       "      <td>0.0</td>\n",
       "      <td>1.0</td>\n",
       "      <td>0.0</td>\n",
       "      <td>1.0</td>\n",
       "      <td>0.0</td>\n",
       "      <td>0.060451</td>\n",
       "      <td>-0.172936</td>\n",
       "      <td>-0.026294</td>\n",
       "      <td>...</td>\n",
       "      <td>0.327560</td>\n",
       "      <td>-0.166819</td>\n",
       "      <td>0.042079</td>\n",
       "      <td>-0.034599</td>\n",
       "      <td>0.029893</td>\n",
       "      <td>0.282038</td>\n",
       "      <td>-0.139885</td>\n",
       "      <td>0.186054</td>\n",
       "      <td>0.193534</td>\n",
       "      <td>-0.047213</td>\n",
       "    </tr>\n",
       "    <tr>\n",
       "      <th>3</th>\n",
       "      <td>neg</td>\n",
       "      <td>1.0</td>\n",
       "      <td>0.0</td>\n",
       "      <td>0.0</td>\n",
       "      <td>0.0</td>\n",
       "      <td>1.0</td>\n",
       "      <td>0.0</td>\n",
       "      <td>-0.049010</td>\n",
       "      <td>-0.311965</td>\n",
       "      <td>0.169213</td>\n",
       "      <td>...</td>\n",
       "      <td>-0.210758</td>\n",
       "      <td>-0.143869</td>\n",
       "      <td>-0.042304</td>\n",
       "      <td>-0.194833</td>\n",
       "      <td>-0.047312</td>\n",
       "      <td>0.333067</td>\n",
       "      <td>0.017274</td>\n",
       "      <td>0.100887</td>\n",
       "      <td>0.197245</td>\n",
       "      <td>0.005664</td>\n",
       "    </tr>\n",
       "    <tr>\n",
       "      <th>4</th>\n",
       "      <td>pos</td>\n",
       "      <td>0.0</td>\n",
       "      <td>0.0</td>\n",
       "      <td>1.0</td>\n",
       "      <td>0.0</td>\n",
       "      <td>1.0</td>\n",
       "      <td>0.0</td>\n",
       "      <td>0.166559</td>\n",
       "      <td>-0.271395</td>\n",
       "      <td>0.264561</td>\n",
       "      <td>...</td>\n",
       "      <td>0.226036</td>\n",
       "      <td>-0.187280</td>\n",
       "      <td>0.364145</td>\n",
       "      <td>0.215561</td>\n",
       "      <td>-0.072055</td>\n",
       "      <td>-0.327634</td>\n",
       "      <td>-0.127996</td>\n",
       "      <td>0.290648</td>\n",
       "      <td>-0.068311</td>\n",
       "      <td>0.529654</td>\n",
       "    </tr>\n",
       "    <tr>\n",
       "      <th>...</th>\n",
       "      <td>...</td>\n",
       "      <td>...</td>\n",
       "      <td>...</td>\n",
       "      <td>...</td>\n",
       "      <td>...</td>\n",
       "      <td>...</td>\n",
       "      <td>...</td>\n",
       "      <td>...</td>\n",
       "      <td>...</td>\n",
       "      <td>...</td>\n",
       "      <td>...</td>\n",
       "      <td>...</td>\n",
       "      <td>...</td>\n",
       "      <td>...</td>\n",
       "      <td>...</td>\n",
       "      <td>...</td>\n",
       "      <td>...</td>\n",
       "      <td>...</td>\n",
       "      <td>...</td>\n",
       "      <td>...</td>\n",
       "      <td>...</td>\n",
       "    </tr>\n",
       "    <tr>\n",
       "      <th>13809</th>\n",
       "      <td>neg</td>\n",
       "      <td>1.0</td>\n",
       "      <td>0.0</td>\n",
       "      <td>0.0</td>\n",
       "      <td>0.0</td>\n",
       "      <td>1.0</td>\n",
       "      <td>0.0</td>\n",
       "      <td>0.227720</td>\n",
       "      <td>-0.169876</td>\n",
       "      <td>-0.029033</td>\n",
       "      <td>...</td>\n",
       "      <td>0.409466</td>\n",
       "      <td>-0.154213</td>\n",
       "      <td>-0.003561</td>\n",
       "      <td>-0.166231</td>\n",
       "      <td>-0.021191</td>\n",
       "      <td>0.191070</td>\n",
       "      <td>-0.041415</td>\n",
       "      <td>0.078364</td>\n",
       "      <td>-0.049340</td>\n",
       "      <td>-0.024830</td>\n",
       "    </tr>\n",
       "    <tr>\n",
       "      <th>13810</th>\n",
       "      <td>neg</td>\n",
       "      <td>1.0</td>\n",
       "      <td>0.0</td>\n",
       "      <td>0.0</td>\n",
       "      <td>0.0</td>\n",
       "      <td>1.0</td>\n",
       "      <td>0.0</td>\n",
       "      <td>0.199832</td>\n",
       "      <td>-0.413089</td>\n",
       "      <td>0.040101</td>\n",
       "      <td>...</td>\n",
       "      <td>0.409466</td>\n",
       "      <td>-0.154213</td>\n",
       "      <td>-0.003561</td>\n",
       "      <td>-0.166231</td>\n",
       "      <td>-0.021191</td>\n",
       "      <td>0.191070</td>\n",
       "      <td>-0.041415</td>\n",
       "      <td>0.078364</td>\n",
       "      <td>-0.049340</td>\n",
       "      <td>-0.024830</td>\n",
       "    </tr>\n",
       "    <tr>\n",
       "      <th>13811</th>\n",
       "      <td>neg</td>\n",
       "      <td>1.0</td>\n",
       "      <td>0.0</td>\n",
       "      <td>0.0</td>\n",
       "      <td>0.0</td>\n",
       "      <td>0.0</td>\n",
       "      <td>1.0</td>\n",
       "      <td>0.048078</td>\n",
       "      <td>-0.337632</td>\n",
       "      <td>-0.105340</td>\n",
       "      <td>...</td>\n",
       "      <td>0.101448</td>\n",
       "      <td>-0.192111</td>\n",
       "      <td>0.098484</td>\n",
       "      <td>0.211544</td>\n",
       "      <td>-0.106624</td>\n",
       "      <td>-0.123411</td>\n",
       "      <td>-0.118704</td>\n",
       "      <td>0.034215</td>\n",
       "      <td>0.091403</td>\n",
       "      <td>0.047239</td>\n",
       "    </tr>\n",
       "    <tr>\n",
       "      <th>13812</th>\n",
       "      <td>neg</td>\n",
       "      <td>1.0</td>\n",
       "      <td>0.0</td>\n",
       "      <td>0.0</td>\n",
       "      <td>0.0</td>\n",
       "      <td>1.0</td>\n",
       "      <td>0.0</td>\n",
       "      <td>0.120930</td>\n",
       "      <td>-0.458627</td>\n",
       "      <td>0.008752</td>\n",
       "      <td>...</td>\n",
       "      <td>0.409466</td>\n",
       "      <td>-0.154213</td>\n",
       "      <td>-0.003561</td>\n",
       "      <td>-0.166231</td>\n",
       "      <td>-0.021191</td>\n",
       "      <td>0.191070</td>\n",
       "      <td>-0.041415</td>\n",
       "      <td>0.078364</td>\n",
       "      <td>-0.049340</td>\n",
       "      <td>-0.024830</td>\n",
       "    </tr>\n",
       "    <tr>\n",
       "      <th>13813</th>\n",
       "      <td>neu</td>\n",
       "      <td>0.0</td>\n",
       "      <td>1.0</td>\n",
       "      <td>0.0</td>\n",
       "      <td>1.0</td>\n",
       "      <td>0.0</td>\n",
       "      <td>0.0</td>\n",
       "      <td>0.060142</td>\n",
       "      <td>-0.155306</td>\n",
       "      <td>0.190992</td>\n",
       "      <td>...</td>\n",
       "      <td>0.373574</td>\n",
       "      <td>-0.353540</td>\n",
       "      <td>-0.055657</td>\n",
       "      <td>0.097904</td>\n",
       "      <td>-0.119958</td>\n",
       "      <td>-0.130574</td>\n",
       "      <td>0.111915</td>\n",
       "      <td>0.439335</td>\n",
       "      <td>0.207262</td>\n",
       "      <td>-0.081007</td>\n",
       "    </tr>\n",
       "  </tbody>\n",
       "</table>\n",
       "<p>13814 rows × 407 columns</p>\n",
       "</div>"
      ],
      "text/plain": [
       "      target    a    b    c    d    e    f         0         1         2  ...  \\\n",
       "0        pos  0.0  0.0  1.0  0.0  1.0  0.0  0.017109 -0.238943  0.162469  ...   \n",
       "1        pos  0.0  0.0  1.0  0.0  1.0  0.0  0.051815 -0.113376  0.018852  ...   \n",
       "2        pos  0.0  0.0  1.0  0.0  1.0  0.0  0.060451 -0.172936 -0.026294  ...   \n",
       "3        neg  1.0  0.0  0.0  0.0  1.0  0.0 -0.049010 -0.311965  0.169213  ...   \n",
       "4        pos  0.0  0.0  1.0  0.0  1.0  0.0  0.166559 -0.271395  0.264561  ...   \n",
       "...      ...  ...  ...  ...  ...  ...  ...       ...       ...       ...  ...   \n",
       "13809    neg  1.0  0.0  0.0  0.0  1.0  0.0  0.227720 -0.169876 -0.029033  ...   \n",
       "13810    neg  1.0  0.0  0.0  0.0  1.0  0.0  0.199832 -0.413089  0.040101  ...   \n",
       "13811    neg  1.0  0.0  0.0  0.0  0.0  1.0  0.048078 -0.337632 -0.105340  ...   \n",
       "13812    neg  1.0  0.0  0.0  0.0  1.0  0.0  0.120930 -0.458627  0.008752  ...   \n",
       "13813    neu  0.0  1.0  0.0  1.0  0.0  0.0  0.060142 -0.155306  0.190992  ...   \n",
       "\n",
       "          190.1     191.1     192.1     193.1     194.1     195.1     196.1  \\\n",
       "0     -0.210758 -0.143869 -0.042304 -0.194833 -0.047312  0.333067  0.017274   \n",
       "1     -0.210758 -0.143869 -0.042304 -0.194833 -0.047312  0.333067  0.017274   \n",
       "2      0.327560 -0.166819  0.042079 -0.034599  0.029893  0.282038 -0.139885   \n",
       "3     -0.210758 -0.143869 -0.042304 -0.194833 -0.047312  0.333067  0.017274   \n",
       "4      0.226036 -0.187280  0.364145  0.215561 -0.072055 -0.327634 -0.127996   \n",
       "...         ...       ...       ...       ...       ...       ...       ...   \n",
       "13809  0.409466 -0.154213 -0.003561 -0.166231 -0.021191  0.191070 -0.041415   \n",
       "13810  0.409466 -0.154213 -0.003561 -0.166231 -0.021191  0.191070 -0.041415   \n",
       "13811  0.101448 -0.192111  0.098484  0.211544 -0.106624 -0.123411 -0.118704   \n",
       "13812  0.409466 -0.154213 -0.003561 -0.166231 -0.021191  0.191070 -0.041415   \n",
       "13813  0.373574 -0.353540 -0.055657  0.097904 -0.119958 -0.130574  0.111915   \n",
       "\n",
       "          197.1     198.1     199.1  \n",
       "0      0.100887  0.197245  0.005664  \n",
       "1      0.100887  0.197245  0.005664  \n",
       "2      0.186054  0.193534 -0.047213  \n",
       "3      0.100887  0.197245  0.005664  \n",
       "4      0.290648 -0.068311  0.529654  \n",
       "...         ...       ...       ...  \n",
       "13809  0.078364 -0.049340 -0.024830  \n",
       "13810  0.078364 -0.049340 -0.024830  \n",
       "13811  0.034215  0.091403  0.047239  \n",
       "13812  0.078364 -0.049340 -0.024830  \n",
       "13813  0.439335  0.207262 -0.081007  \n",
       "\n",
       "[13814 rows x 407 columns]"
      ]
     },
     "execution_count": 1,
     "metadata": {},
     "output_type": "execute_result"
    }
   ],
   "source": [
    "from IPython.display import display\n",
    "import pandas as pd\n",
    "import numpy as np\n",
    "\n",
    "df=pd.read_csv(\"model_data_4.csv\")\n",
    "df"
   ]
  },
  {
   "cell_type": "code",
   "execution_count": 2,
   "metadata": {},
   "outputs": [],
   "source": [
    "# Syntax: droping y/target variable then use remainder with ->> df.drop(['target'], axis=1)"
   ]
  },
  {
   "cell_type": "code",
   "execution_count": 3,
   "metadata": {},
   "outputs": [],
   "source": [
    "from sklearn.model_selection import train_test_split\n",
    "\n",
    "# Split data in train test set using scikitlearn tr-t-s() funtion and  syntax below:\n",
    "train, test = train_test_split(df, test_size=0.3, random_state=42)        # 30% test set split\n",
    "X_train = train.drop(['target','d','e','f'], axis=1).values     #should remain 306 features\n",
    "X_test = test.drop(['target','d','e','f'], axis=1).values\n",
    "y_train = train['target']\n",
    "y_test = test['target']\n",
    "\n",
    "# Or Alternatively:::\n",
    "# use pandas sampling funtion to Split Data into Training and test sets:\n",
    "# df_copy = df.copy()\n",
    "# df_train = df_copy.sample(frac=0.70, random_state=1)\n",
    "# df_test = df_copy.drop(df_train.index)\n",
    "# \n",
    "# print(df_train.shape)\n",
    "# print(df_test.shape)"
   ]
  },
  {
   "cell_type": "code",
   "execution_count": 4,
   "metadata": {},
   "outputs": [
    {
     "name": "stdout",
     "output_type": "stream",
     "text": [
      "(9669, 403)\n",
      "(4145, 403)\n",
      "(9669,)\n",
      "(4145,)\n"
     ]
    }
   ],
   "source": [
    "print(X_train.shape) \n",
    "print(X_test.shape)\n",
    "print(y_train.shape) \n",
    "print(y_test.shape)"
   ]
  },
  {
   "cell_type": "code",
   "execution_count": 5,
   "metadata": {},
   "outputs": [
    {
     "data": {
      "text/plain": [
       "<AxesSubplot:>"
      ]
     },
     "execution_count": 5,
     "metadata": {},
     "output_type": "execute_result"
    },
    {
     "data": {
      "image/png": "[encoded data removed]",
      "text/plain": [
       "<Figure size 432x288 with 1 Axes>"
      ]
     },
     "metadata": {
      "needs_background": "light"
     },
     "output_type": "display_data"
    }
   ],
   "source": [
    "# observe distribution to see if labels are unbalanced and need undersampling/Oversampling techniques applied \n",
    "train['target'].value_counts().plot(kind='bar')\n"
   ]
  },
  {
   "cell_type": "code",
   "execution_count": 6,
   "metadata": {},
   "outputs": [
    {
     "data": {
      "text/plain": [
       "<AxesSubplot:>"
      ]
     },
     "execution_count": 6,
     "metadata": {},
     "output_type": "execute_result"
    },
    {
     "data": {
      "image/png": "[encoded data removed]",
      "text/plain": [
       "<Figure size 432x288 with 1 Axes>"
      ]
     },
     "metadata": {
      "needs_background": "light"
     },
     "output_type": "display_data"
    }
   ],
   "source": [
    "test['target'].value_counts().plot(kind='bar')"
   ]
  },
  {
   "cell_type": "markdown",
   "metadata": {},
   "source": [
    "<h3> SVM(support Vector Machine) Model ::: </h3>\n",
    "\n",
    "<p> S/N:: Logistic regression implemtation may need one-hot-encoded target variables because y variable contains >2 multiclass labels\n",
    " Different parameters from default will need to be applied due to multiclass label\n",
    "</p>\n"
   ]
  },
  {
   "cell_type": "code",
   "execution_count": 7,
   "metadata": {},
   "outputs": [
    {
     "name": "stdout",
     "output_type": "stream",
     "text": [
      "SVM Model Accuracy: Mean:0.698623092058639   S.D: 0.015030160448486457\n"
     ]
    }
   ],
   "source": [
    "from sklearn import svm\n",
    "from sklearn import model_selection           #for implementing cross validation\n",
    "\n",
    "svc = svm.SVC(kernel='linear', C=1, probability=True)     # Initiate SVM model\n",
    "\n",
    "kfold = model_selection.KFold(n_splits=10, shuffle=True, random_state=7)   # 10 K-fold Cross validation\n",
    "\n",
    "cv_results = model_selection.cross_val_score(svc, X_train, y_train, cv=kfold, scoring='accuracy')  # results\n",
    "\n",
    "print(f\"SVM Model Accuracy: Mean:{cv_results.mean()}   S.D: {cv_results.std()}\")\n"
   ]
  },
  {
   "cell_type": "code",
   "execution_count": 8,
   "metadata": {},
   "outputs": [
    {
     "name": "stdout",
     "output_type": "stream",
     "text": [
      "Model F1 Score is: 0.7426681716271891\n",
      "Model Accuracy is: 0.6776839565741858\n",
      "Model Precision is: 0.7426405056878348\n",
      "Model Recall is: 0.7427092213697074\n",
      "\n",
      "              precision    recall  f1-score   support\n",
      "\n",
      "         neg       0.59      0.59      0.59      1632\n",
      "         neu       1.00      1.00      1.00       673\n",
      "         pos       0.64      0.63      0.64      1840\n",
      "\n",
      "    accuracy                           0.68      4145\n",
      "   macro avg       0.74      0.74      0.74      4145\n",
      "weighted avg       0.68      0.68      0.68      4145\n",
      "\n"
     ]
    }
   ],
   "source": [
    "svc = svm.SVC(kernel='linear', C=1, probability=True).fit(X_train,y_train)\n",
    "y_pred = svc.predict(X_test)\n",
    "\n",
    "from sklearn.metrics import f1_score\n",
    "from sklearn.metrics import accuracy_score\n",
    "from sklearn import metrics\n",
    "from sklearn.metrics import classification_report\n",
    "\n",
    "\n",
    "print(f\"Model F1 Score is: {f1_score(y_test, y_pred, average='macro')}\")\n",
    "print(f\"Model Accuracy is: {accuracy_score(y_test, y_pred)}\")\n",
    "print(f\"Model Precision is: {metrics.precision_score(y_test, y_pred, average='macro')}\")\n",
    "print(f\"Model Recall is: {metrics.recall_score(y_test, y_pred, average='macro')}\")\n",
    "print(end='\\n')\n",
    "\n",
    "# Return Sturctured Classification Report\n",
    "print(classification_report(y_test, y_pred))"
   ]
  },
  {
   "cell_type": "code",
   "execution_count": 9,
   "metadata": {},
   "outputs": [
    {
     "data": {
      "image/png": "[encoded data removed]",
      "text/plain": [
       "<Figure size 432x288 with 2 Axes>"
      ]
     },
     "metadata": {
      "needs_background": "light"
     },
     "output_type": "display_data"
    }
   ],
   "source": [
    "# Generate a confusion Matrix plot\n",
    "from sklearn.metrics import ConfusionMatrixDisplay\n",
    "from sklearn.metrics import confusion_matrix\n",
    "import matplotlib.pyplot as plt\n",
    "\n",
    "cm = confusion_matrix(y_test, y_pred, labels=svc.classes_) #can add normalise args (normalize='all'/'pred'/'true')\n",
    "disp = ConfusionMatrixDisplay(confusion_matrix=cm, display_labels=svc.classes_)\n",
    "disp.plot()\n",
    "plt.show()\n"
   ]
  },
  {
   "cell_type": "markdown",
   "metadata": {},
   "source": [
    "<h3> Random Forest Classifier ::: </h3>\n",
    "\n",
    "S/N: Micro- and macro-averages (for whatever metric) will compute slightly different things, and thus their interpretation differs. A macro-average will compute the metric independently for each class and then take the average (hence treating all classes equally), whereas a micro-average will aggregate the contributions of all classes to compute the average metric. In a multi-class classification setup, micro-average is preferable if you suspect there might be class imbalance (i.e you may have many more examples of one class than of other classes)."
   ]
  },
  {
   "cell_type": "code",
   "execution_count": 10,
   "metadata": {},
   "outputs": [
    {
     "name": "stdout",
     "output_type": "stream",
     "text": [
      "Random Forrest Model Accuracy: Mean:0.8758893377952773   S.D: 0.010951613117206199\n"
     ]
    }
   ],
   "source": [
    "from sklearn.ensemble import RandomForestClassifier\n",
    "\n",
    "rf = RandomForestClassifier(n_estimators=400, random_state=11)\n",
    "\n",
    "rf_results = model_selection.cross_val_score(rf, X_train, y_train, cv=kfold, scoring='accuracy') \n",
    "\n",
    "print(f\"Random Forrest Model Accuracy: Mean:{rf_results.mean()}   S.D: {rf_results.std()}\")"
   ]
  },
  {
   "cell_type": "code",
   "execution_count": 11,
   "metadata": {},
   "outputs": [
    {
     "name": "stdout",
     "output_type": "stream",
     "text": [
      "Model F1 Score is: 0.9012161157207589\n",
      "Model Accuracy is: 0.8767189384800965\n",
      "Model Precision is: 0.9023618428446109\n",
      "Model Recall is: 0.9006393861892583\n",
      "\n",
      "              precision    recall  f1-score   support\n",
      "\n",
      "         neg       0.86      0.82      0.84      1632\n",
      "         neu       1.00      1.00      1.00       673\n",
      "         pos       0.85      0.88      0.86      1840\n",
      "\n",
      "    accuracy                           0.88      4145\n",
      "   macro avg       0.90      0.90      0.90      4145\n",
      "weighted avg       0.88      0.88      0.88      4145\n",
      "\n"
     ]
    }
   ],
   "source": [
    "rf = RandomForestClassifier(n_estimators=400, random_state=11).fit(X_train,y_train)\n",
    "y_pred = rf.predict(X_test)\n",
    "\n",
    "from sklearn.metrics import f1_score\n",
    "from sklearn.metrics import accuracy_score\n",
    "from sklearn import metrics\n",
    "from sklearn.metrics import classification_report\n",
    "\n",
    "\n",
    "print(f\"Model F1 Score is: {f1_score(y_test, y_pred, average='macro')}\")\n",
    "print(f\"Model Accuracy is: {accuracy_score(y_test, y_pred)}\")\n",
    "print(f\"Model Precision is: {metrics.precision_score(y_test, y_pred, average='macro')}\")\n",
    "print(f\"Model Recall is: {metrics.recall_score(y_test, y_pred, average='macro')}\")\n",
    "print(end='\\n')\n",
    "\n",
    "# Return Sturctured Classification Report\n",
    "print(classification_report(y_test, y_pred))"
   ]
  },
  {
   "cell_type": "code",
   "execution_count": 12,
   "metadata": {},
   "outputs": [
    {
     "data": {
      "image/png": "[encoded data removed]",
      "text/plain": [
       "<Figure size 432x288 with 2 Axes>"
      ]
     },
     "metadata": {
      "needs_background": "light"
     },
     "output_type": "display_data"
    }
   ],
   "source": [
    "# Generate a confusion Matrix plot\n",
    "from sklearn.metrics import ConfusionMatrixDisplay\n",
    "from sklearn.metrics import confusion_matrix\n",
    "import matplotlib.pyplot as plt\n",
    "\n",
    "cm = confusion_matrix(y_test, y_pred, labels=rf.classes_) #can add normalise args (normalize='all'/'pred'/'true')\n",
    "disp = ConfusionMatrixDisplay(confusion_matrix=cm, display_labels=rf.classes_)\n",
    "disp.plot()\n",
    "plt.show()"
   ]
  },
  {
   "cell_type": "code",
   "execution_count": 13,
   "metadata": {},
   "outputs": [],
   "source": [
    "#Auc Roc curve plot\n",
    "import numpy as np\n",
    "import matplotlib.pyplot as plt\n",
    "from itertools import cycle\n",
    "from sklearn.metrics import roc_curve, auc\n",
    "from sklearn.metrics import roc_auc_score\n",
    "from sklearn.preprocessing import label_binarize\n",
    "# Binarize the output\n",
    "ytr = label_binarize(y_train, classes=['pos', 'neg', 'neu'])\n",
    "n_classes = ytr.shape[1]\n",
    "yts = label_binarize(y_test, classes=['pos', 'neg', 'neu'])\n",
    "\n",
    "# re-model\n",
    "rf = RandomForestClassifier(n_estimators=400, random_state=11).fit(X_train,ytr)\n",
    "ypd = rf.predict(X_test)\n",
    "\n",
    "# Compute ROC curve and ROC area for each class\n",
    "fpr = dict()\n",
    "tpr = dict()\n",
    "roc_auc = dict()\n",
    "for i in range(n_classes):\n",
    "    fpr[i], tpr[i], _ = roc_curve(yts[:, i], ypd[:, i])\n",
    "    roc_auc[i] = auc(fpr[i], tpr[i])\n",
    "\n",
    "# Compute micro-average ROC curve and ROC area\n",
    "fpr[\"micro\"], tpr[\"micro\"], _ = roc_curve(yts.ravel(), ypd.ravel())\n",
    "roc_auc[\"micro\"] = auc(fpr[\"micro\"], tpr[\"micro\"])"
   ]
  },
  {
   "cell_type": "code",
   "execution_count": 14,
   "metadata": {},
   "outputs": [
    {
     "data": {
      "image/png": "[encoded data removed]",
      "text/plain": [
       "<Figure size 432x288 with 1 Axes>"
      ]
     },
     "metadata": {
      "needs_background": "light"
     },
     "output_type": "display_data"
    }
   ],
   "source": [
    "# First aggregate all false positive rates\n",
    "all_fpr = np.unique(np.concatenate([fpr[i] for i in range(n_classes)]))\n",
    "\n",
    "# Then interpolate all ROC curves at this points\n",
    "mean_tpr = np.zeros_like(all_fpr)\n",
    "for i in range(n_classes):\n",
    "    mean_tpr += np.interp(all_fpr, fpr[i], tpr[i])\n",
    "\n",
    "# Finally average it and compute AUC\n",
    "mean_tpr /= n_classes\n",
    "\n",
    "fpr[\"macro\"] = all_fpr\n",
    "tpr[\"macro\"] = mean_tpr\n",
    "roc_auc[\"macro\"] = auc(fpr[\"macro\"], tpr[\"macro\"])\n",
    "\n",
    "# Plot all ROC curves\n",
    "plt.figure()\n",
    "plt.plot(\n",
    "    fpr[\"micro\"],\n",
    "    tpr[\"micro\"],\n",
    "    label=\"micro-average ROC curve (area = {0:0.2f})\".format(roc_auc[\"micro\"]),\n",
    "    color=\"deeppink\",\n",
    "    linestyle=\":\",\n",
    "    linewidth=4,\n",
    ")\n",
    "\n",
    "plt.plot(\n",
    "    fpr[\"macro\"],\n",
    "    tpr[\"macro\"],\n",
    "    label=\"macro-average ROC curve (area = {0:0.2f})\".format(roc_auc[\"macro\"]),\n",
    "    color=\"navy\",\n",
    "    linestyle=\":\",\n",
    "    linewidth=4,\n",
    ")\n",
    "\n",
    "colors = cycle([\"aqua\", \"darkorange\", \"cornflowerblue\"])\n",
    "for i, color in zip(range(n_classes), colors):\n",
    "    plt.plot(\n",
    "        fpr[i],\n",
    "        tpr[i],\n",
    "        color=color,\n",
    "        label=\"ROC curve of class {0} (area = {1:0.2f})\".format(i, roc_auc[i]),\n",
    "    )\n",
    "\n",
    "plt.plot([0, 1], [0, 1], \"k--\")\n",
    "plt.xlim([0.0, 1.0])\n",
    "plt.ylim([0.0, 1.05])\n",
    "plt.xlabel(\"False Positive Rate\")\n",
    "plt.ylabel(\"True Positive Rate\")\n",
    "plt.title(\"Some extension of Receiver operating characteristic to multiclass\")\n",
    "plt.legend(loc=\"lower right\")\n",
    "plt.show()"
   ]
  },
  {
   "cell_type": "markdown",
   "metadata": {},
   "source": [
    "<h3> MultiLayer Perceptron (MLP) ::: </h3>\n"
   ]
  },
  {
   "cell_type": "code",
   "execution_count": 15,
   "metadata": {},
   "outputs": [
    {
     "name": "stderr",
     "output_type": "stream",
     "text": [
      "C:\\Users\\malik\\miniconda3\\envs\\tensor2.5\\lib\\site-packages\\sklearn\\neural_network\\_multilayer_perceptron.py:500: ConvergenceWarning: lbfgs failed to converge (status=1):\n",
      "STOP: TOTAL NO. of ITERATIONS REACHED LIMIT.\n",
      "\n",
      "Increase the number of iterations (max_iter) or scale the data as shown in:\n",
      "    https://scikit-learn.org/stable/modules/preprocessing.html\n",
      "  self.n_iter_ = _check_optimize_result(\"lbfgs\", opt_res, self.max_iter)\n",
      "C:\\Users\\malik\\miniconda3\\envs\\tensor2.5\\lib\\site-packages\\sklearn\\neural_network\\_multilayer_perceptron.py:500: ConvergenceWarning: lbfgs failed to converge (status=1):\n",
      "STOP: TOTAL NO. of ITERATIONS REACHED LIMIT.\n",
      "\n",
      "Increase the number of iterations (max_iter) or scale the data as shown in:\n",
      "    https://scikit-learn.org/stable/modules/preprocessing.html\n",
      "  self.n_iter_ = _check_optimize_result(\"lbfgs\", opt_res, self.max_iter)\n",
      "C:\\Users\\malik\\miniconda3\\envs\\tensor2.5\\lib\\site-packages\\sklearn\\neural_network\\_multilayer_perceptron.py:500: ConvergenceWarning: lbfgs failed to converge (status=1):\n",
      "STOP: TOTAL NO. of ITERATIONS REACHED LIMIT.\n",
      "\n",
      "Increase the number of iterations (max_iter) or scale the data as shown in:\n",
      "    https://scikit-learn.org/stable/modules/preprocessing.html\n",
      "  self.n_iter_ = _check_optimize_result(\"lbfgs\", opt_res, self.max_iter)\n",
      "C:\\Users\\malik\\miniconda3\\envs\\tensor2.5\\lib\\site-packages\\sklearn\\neural_network\\_multilayer_perceptron.py:500: ConvergenceWarning: lbfgs failed to converge (status=1):\n",
      "STOP: TOTAL NO. of ITERATIONS REACHED LIMIT.\n",
      "\n",
      "Increase the number of iterations (max_iter) or scale the data as shown in:\n",
      "    https://scikit-learn.org/stable/modules/preprocessing.html\n",
      "  self.n_iter_ = _check_optimize_result(\"lbfgs\", opt_res, self.max_iter)\n"
     ]
    },
    {
     "name": "stdout",
     "output_type": "stream",
     "text": [
      "Multlayer Perceptron Model Accuracy: Mean: 0.6994507141465462  S.D: 0.02313525027133378\n"
     ]
    }
   ],
   "source": [
    "from sklearn.neural_network import MLPClassifier\n",
    "from sklearn.preprocessing import StandardScaler\n",
    "\n",
    "#Multi-layer Perceptron is sensitive to feature scaling, so it is highly recommended to scale your data  \n",
    "scaler = StandardScaler()  \n",
    "scaler.fit(X_train)  \n",
    "# Transform X train data\n",
    "X_train = scaler.transform(X_train)  \n",
    "# Transform X test data\n",
    "X_test = scaler.transform(X_test)  \n",
    "\n",
    "mlp = MLPClassifier(solver='lbfgs', hidden_layer_sizes=(2,3), max_iter=2000, activation='logistic')\n",
    "\n",
    "mlp_results = model_selection.cross_val_score(mlp, X_train, y_train, cv=kfold, scoring='accuracy')\n",
    "\n",
    "print(f\"Multlayer Perceptron Model Accuracy: Mean: {mlp_results.mean()}  S.D: {mlp_results.std()}\")"
   ]
  },
  {
   "cell_type": "code",
   "execution_count": 16,
   "metadata": {},
   "outputs": [
    {
     "name": "stderr",
     "output_type": "stream",
     "text": [
      "C:\\Users\\malik\\miniconda3\\envs\\tensor2.5\\lib\\site-packages\\sklearn\\neural_network\\_multilayer_perceptron.py:500: ConvergenceWarning: lbfgs failed to converge (status=1):\n",
      "STOP: TOTAL NO. of ITERATIONS REACHED LIMIT.\n",
      "\n",
      "Increase the number of iterations (max_iter) or scale the data as shown in:\n",
      "    https://scikit-learn.org/stable/modules/preprocessing.html\n",
      "  self.n_iter_ = _check_optimize_result(\"lbfgs\", opt_res, self.max_iter)\n"
     ]
    },
    {
     "name": "stdout",
     "output_type": "stream",
     "text": [
      "Best parameters set found on development set:\n",
      "{'activation': 'logistic', 'hidden_layer_sizes': (20,), 'max_iter': 2000, 'solver': 'adam'}\n"
     ]
    }
   ],
   "source": [
    "# Implementing Grid Search to explore the hyperparameters on MLP\n",
    "\n",
    "from sklearn.model_selection import GridSearchCV\n",
    "\n",
    "param_grid = [\n",
    "        {\n",
    "            'activation' : ['identity', 'logistic'],\n",
    "            'solver' : ['lbfgs', 'adam'],\n",
    "            'hidden_layer_sizes': [\n",
    "             (1,2),(2,3),(3,),(4,),(5,),(10,),(12,4),(16,2),(17,),(18,),(20,)\n",
    "             ],\n",
    "            'max_iter' : [2000]\n",
    "        }\n",
    "       ]\n",
    "\n",
    "clf = GridSearchCV(MLPClassifier(), param_grid, cv=3,\n",
    "                           scoring='accuracy')\n",
    "clf.fit(X_train,y_train)\n",
    "\n",
    "\n",
    "print(\"Best parameters set found on development set:\")\n",
    "print(clf.best_params_)\n"
   ]
  },
  {
   "cell_type": "code",
   "execution_count": 17,
   "metadata": {},
   "outputs": [
    {
     "name": "stdout",
     "output_type": "stream",
     "text": [
      "MLPClassifier(activation='logistic', hidden_layer_sizes=(20,), max_iter=2000)\n",
      "0.8473471920570897\n",
      "{'activation': 'logistic', 'hidden_layer_sizes': (20,), 'max_iter': 2000, 'solver': 'adam'}\n"
     ]
    }
   ],
   "source": [
    "#clf.cv_results_ \n",
    "bestModel = clf.best_estimator_\n",
    "print(bestModel)\n",
    "print(clf.best_score_)\n",
    "print(clf.best_params_)"
   ]
  },
  {
   "cell_type": "code",
   "execution_count": 18,
   "metadata": {},
   "outputs": [],
   "source": [
    "mlp2 = MLPClassifier(solver='adam', hidden_layer_sizes=(20,), max_iter=2000, activation='logistic').fit(X_train,y_train)\n",
    "y_pred = mlp2.predict(X_test)\n"
   ]
  },
  {
   "cell_type": "markdown",
   "metadata": {},
   "source": [
    "<h3> Evaluation Metrics for 'final selected model'</h3>"
   ]
  },
  {
   "cell_type": "code",
   "execution_count": 19,
   "metadata": {},
   "outputs": [
    {
     "name": "stdout",
     "output_type": "stream",
     "text": [
      "Model F1 Score is: 0.8993664758625649\n",
      "Model Accuracy is: 0.8743063932448734\n",
      "Model Precision is: 0.9001449664956773\n",
      "Model Recall is: 0.8989201477692527\n",
      "\n",
      "              precision    recall  f1-score   support\n",
      "\n",
      "         neg       0.85      0.82      0.84      1632\n",
      "         neu       1.00      1.00      1.00       673\n",
      "         pos       0.85      0.87      0.86      1840\n",
      "\n",
      "    accuracy                           0.87      4145\n",
      "   macro avg       0.90      0.90      0.90      4145\n",
      "weighted avg       0.87      0.87      0.87      4145\n",
      "\n"
     ]
    }
   ],
   "source": [
    "from sklearn.metrics import f1_score\n",
    "from sklearn.metrics import accuracy_score\n",
    "from sklearn import metrics\n",
    "from sklearn.metrics import classification_report\n",
    "\n",
    "\n",
    "print(f\"Model F1 Score is: {f1_score(y_test, y_pred, average='macro')}\")\n",
    "print(f\"Model Accuracy is: {accuracy_score(y_test, y_pred)}\")\n",
    "print(f\"Model Precision is: {metrics.precision_score(y_test, y_pred, average='macro')}\")\n",
    "print(f\"Model Recall is: {metrics.recall_score(y_test, y_pred, average='macro')}\")\n",
    "print(end='\\n')\n",
    "\n",
    "# Return Sturctured Classification Report\n",
    "print(classification_report(y_test, y_pred))\n",
    "\n",
    "\n",
    "\n"
   ]
  },
  {
   "cell_type": "code",
   "execution_count": 20,
   "metadata": {},
   "outputs": [
    {
     "data": {
      "image/png": "[encoded data removed]",
      "text/plain": [
       "<Figure size 432x288 with 2 Axes>"
      ]
     },
     "metadata": {
      "needs_background": "light"
     },
     "output_type": "display_data"
    }
   ],
   "source": [
    "# Generate a confusion Matrix plot\n",
    "from sklearn.metrics import ConfusionMatrixDisplay\n",
    "from sklearn.metrics import confusion_matrix\n",
    "\n",
    "import matplotlib.pyplot as plt\n",
    "\n",
    "cm = confusion_matrix(y_test, y_pred, labels=mlp2.classes_) #can add normalise args (normalize='all'/'pred'/'true')\n",
    "disp = ConfusionMatrixDisplay(confusion_matrix=cm, display_labels=mlp2.classes_)\n",
    "disp.plot()\n",
    "plt.show()\n",
    "\n"
   ]
  },
  {
   "cell_type": "code",
   "execution_count": 21,
   "metadata": {},
   "outputs": [],
   "source": [
    "#Auc Roc curve plot\n",
    "import numpy as np\n",
    "import matplotlib.pyplot as plt\n",
    "from itertools import cycle\n",
    "from sklearn.metrics import roc_curve, auc\n",
    "from sklearn.metrics import roc_auc_score\n",
    "from sklearn.preprocessing import label_binarize\n",
    "# Binarize the output\n",
    "ytr = label_binarize(y_train, classes=['pos', 'neg', 'neu'])\n",
    "n_classes = ytr.shape[1]\n",
    "yts = label_binarize(y_test, classes=['pos', 'neg', 'neu'])\n",
    "\n",
    "# re-model\n",
    "mlp2 = MLPClassifier(solver='adam', hidden_layer_sizes=(17,), max_iter=2000, activation='logistic').fit(X_train,ytr)\n",
    "ypd = mlp2.predict(X_test)\n",
    "\n",
    "# Compute ROC curve and ROC area for each class\n",
    "fpr = dict()\n",
    "tpr = dict()\n",
    "roc_auc = dict()\n",
    "for i in range(n_classes):\n",
    "    fpr[i], tpr[i], _ = roc_curve(yts[:, i], ypd[:, i])\n",
    "    roc_auc[i] = auc(fpr[i], tpr[i])\n",
    "\n",
    "# Compute micro-average ROC curve and ROC area\n",
    "fpr[\"micro\"], tpr[\"micro\"], _ = roc_curve(yts.ravel(), ypd.ravel())\n",
    "roc_auc[\"micro\"] = auc(fpr[\"micro\"], tpr[\"micro\"])\n"
   ]
  },
  {
   "cell_type": "code",
   "execution_count": 22,
   "metadata": {},
   "outputs": [
    {
     "data": {
      "image/png": "[encoded data removed]",
      "text/plain": [
       "<Figure size 432x288 with 1 Axes>"
      ]
     },
     "metadata": {
      "needs_background": "light"
     },
     "output_type": "display_data"
    }
   ],
   "source": [
    "# First aggregate all false positive rates\n",
    "all_fpr = np.unique(np.concatenate([fpr[i] for i in range(n_classes)]))\n",
    "\n",
    "# Then interpolate all ROC curves at this points\n",
    "mean_tpr = np.zeros_like(all_fpr)\n",
    "for i in range(n_classes):\n",
    "    mean_tpr += np.interp(all_fpr, fpr[i], tpr[i])\n",
    "\n",
    "# Finally average it and compute AUC\n",
    "mean_tpr /= n_classes\n",
    "\n",
    "fpr[\"macro\"] = all_fpr\n",
    "tpr[\"macro\"] = mean_tpr\n",
    "roc_auc[\"macro\"] = auc(fpr[\"macro\"], tpr[\"macro\"])\n",
    "\n",
    "# Plot all ROC curves\n",
    "plt.figure()\n",
    "plt.plot(\n",
    "    fpr[\"micro\"],\n",
    "    tpr[\"micro\"],\n",
    "    label=\"micro-average ROC curve (area = {0:0.2f})\".format(roc_auc[\"micro\"]),\n",
    "    color=\"deeppink\",\n",
    "    linestyle=\":\",\n",
    "    linewidth=4,\n",
    ")\n",
    "\n",
    "plt.plot(\n",
    "    fpr[\"macro\"],\n",
    "    tpr[\"macro\"],\n",
    "    label=\"macro-average ROC curve (area = {0:0.2f})\".format(roc_auc[\"macro\"]),\n",
    "    color=\"navy\",\n",
    "    linestyle=\":\",\n",
    "    linewidth=4,\n",
    ")\n",
    "\n",
    "colors = cycle([\"aqua\", \"darkorange\", \"cornflowerblue\"])\n",
    "for i, color in zip(range(n_classes), colors):\n",
    "    plt.plot(\n",
    "        fpr[i],\n",
    "        tpr[i],\n",
    "        color=color,\n",
    "        label=\"ROC curve of class {0} (area = {1:0.2f})\".format(i, roc_auc[i]),\n",
    "    )\n",
    "\n",
    "plt.plot([0, 1], [0, 1], \"k--\")\n",
    "plt.xlim([0.0, 1.0])\n",
    "plt.ylim([0.0, 1.05])\n",
    "plt.xlabel(\"False Positive Rate\")\n",
    "plt.ylabel(\"True Positive Rate\")\n",
    "plt.title(\"Some extension of Receiver operating characteristic to multiclass\")\n",
    "plt.legend(loc=\"lower right\")\n",
    "plt.show()"
   ]
  },
  {
   "cell_type": "markdown",
   "metadata": {},
   "source": [
    "# Deployment:"
   ]
  },
  {
   "cell_type": "code",
   "execution_count": 23,
   "metadata": {},
   "outputs": [],
   "source": [
    "## save model\n",
    "import pickle\n",
    "pickle.dump(mlp2, open(\"savedmodel.sav\", 'wb'))\n",
    "\n",
    "## some time later...\n",
    "## load the model from disk\n",
    "#rf2 = pickle.load(open(\"savedmodel.sav\", 'rb'))\n",
    "#pred = mlp2.predict(X_test)"
   ]
  },
  {
   "cell_type": "markdown",
   "metadata": {},
   "source": [
    "Conclusion:\n",
    "\n",
    "It can be observed that both Random Forest and Neural Network(MLP) models performs well compared to linear support vector machines."
   ]
  },
  {
   "cell_type": "markdown",
   "metadata": {},
   "source": [
    "# ..."
   ]
  },
  {
   "cell_type": "markdown",
   "metadata": {},
   "source": [
    "# ....."
   ]
  },
  {
   "cell_type": "markdown",
   "metadata": {},
   "source": [
    "# Limitations and other considerations\n",
    "\n",
    "A lot has been considerd in this research but still there is plenty of room for other things to try out.\n",
    "\n",
    "We have built so many models, we can definitely try model ensembling.\n",
    "\n",
    "Take out Parts-of-Speech tagging and try creating with new features with stemming or without any stem/lemma.\n",
    "\n",
    "Use bi-grams or tri-grams (tokens of 2 or 3 words respectively) for Bag-of-Words and TF-IDF then build models using these features\n",
    "\n",
    "We can give pretrained word-embeddings models a try as the embedding learned from the data is not very accurate and doesn't perform well without the additional features\n",
    "\n",
    "<p>Others: Try implementing LTSM Neural Network using logic demonstated <a href:\"https://www.kaggle.com/kritanjalijain/twitter-sentiment-analysis-lstm\"> on this Kaggle Notebook </a></p>"
   ]
  }
 ],
 "metadata": {
  "interpreter": {
   "hash": "035b9c71e4a3a67db39a7728b05f0df5cc8b8760f61dc7a461f1625dbaae32b6"
  },
  "kernelspec": {
   "display_name": "Python 3.9.5 64-bit ('tensor2.5': conda)",
   "language": "python",
   "name": "python3"
  },
  "language_info": {
   "codemirror_mode": {
    "name": "ipython",
    "version": 3
   },
   "file_extension": ".py",
   "mimetype": "text/x-python",
   "name": "python",
   "nbconvert_exporter": "python",
   "pygments_lexer": "ipython3",
   "version": "3.9.5"
  },
  "orig_nbformat": 4
 },
 "nbformat": 4,
 "nbformat_minor": 2
}
