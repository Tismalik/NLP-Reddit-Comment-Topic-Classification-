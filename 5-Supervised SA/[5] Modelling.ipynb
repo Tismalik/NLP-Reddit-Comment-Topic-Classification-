{
 "cells": [
  {
   "cell_type": "markdown",
   "metadata": {},
   "source": [
    "# Modelling - Evaluation:\n",
    "<h3> In this Notebook i'll first split the dataframe which now contains the wordembedding vector representation for \n",
    " the comment and topic columns, into Training and Test set at 70:30 </h3>\n",
    "\n",
    "<h3> Next: We'll apply the following models \"listed below\" to our data and then use accuracy to measure the model with the best performance \n",
    "    <p>The chossen model will then be Tested on unseen data and  explored using other Evaluation Metrics.</p>\n",
    "    <p>S/N: Elements of Grid Search are be used to tune Hyperparameter for MLP</P>\n",
    "</h3>\n",
    "\n",
    "<p>\n",
    "<ul>\n",
    "    <li> Support Vector Machine</li>\n",
    "    <li> Logistic Regression (X) </li>\n",
    "    <li> RandomForest</li>\n",
    "    <li> XGBoost / LSTM Neural Network / MLP </li>\n",
    "    <li> Naive Bayes (X)</li>\n",
    "</ul>\n",
    "</p>\n",
    "\n",
    "<h3> Here are some evaluation metric we'll be using for the model</h3>\n",
    "<p>\n",
    "<ul>\n",
    "    <li> F1 score</li>\n",
    "    <li> Accuracy </li>\n",
    "    <li> Precision</li>\n",
    "    <li> Recall </li>\n",
    "    <li> Confusion Matrix</li>\n",
    "</ul>\n",
    "</p>"
   ]
  },
  {
   "cell_type": "code",
   "execution_count": 1,
   "metadata": {},
   "outputs": [
    {
     "data": {
      "text/html": [
       "<div>\n",
       "<style scoped>\n",
       "    .dataframe tbody tr th:only-of-type {\n",
       "        vertical-align: middle;\n",
       "    }\n",
       "\n",
       "    .dataframe tbody tr th {\n",
       "        vertical-align: top;\n",
       "    }\n",
       "\n",
       "    .dataframe thead th {\n",
       "        text-align: right;\n",
       "    }\n",
       "</style>\n",
       "<table border=\"1\" class=\"dataframe\">\n",
       "  <thead>\n",
       "    <tr style=\"text-align: right;\">\n",
       "      <th></th>\n",
       "      <th>target</th>\n",
       "      <th>a</th>\n",
       "      <th>b</th>\n",
       "      <th>c</th>\n",
       "      <th>d</th>\n",
       "      <th>e</th>\n",
       "      <th>f</th>\n",
       "      <th>0</th>\n",
       "      <th>1</th>\n",
       "      <th>2</th>\n",
       "      <th>...</th>\n",
       "      <th>90.1</th>\n",
       "      <th>91.1</th>\n",
       "      <th>92.1</th>\n",
       "      <th>93.1</th>\n",
       "      <th>94.1</th>\n",
       "      <th>95.1</th>\n",
       "      <th>96.1</th>\n",
       "      <th>97.1</th>\n",
       "      <th>98.1</th>\n",
       "      <th>99.1</th>\n",
       "    </tr>\n",
       "  </thead>\n",
       "  <tbody>\n",
       "    <tr>\n",
       "      <th>0</th>\n",
       "      <td>neu</td>\n",
       "      <td>0.0</td>\n",
       "      <td>1.0</td>\n",
       "      <td>0.0</td>\n",
       "      <td>1.0</td>\n",
       "      <td>0.0</td>\n",
       "      <td>0.0</td>\n",
       "      <td>0.006560</td>\n",
       "      <td>-0.034674</td>\n",
       "      <td>0.180679</td>\n",
       "      <td>...</td>\n",
       "      <td>0.132200</td>\n",
       "      <td>0.093612</td>\n",
       "      <td>0.134560</td>\n",
       "      <td>-0.090816</td>\n",
       "      <td>-0.093931</td>\n",
       "      <td>0.006347</td>\n",
       "      <td>0.067203</td>\n",
       "      <td>-0.296446</td>\n",
       "      <td>0.236455</td>\n",
       "      <td>0.319731</td>\n",
       "    </tr>\n",
       "    <tr>\n",
       "      <th>1</th>\n",
       "      <td>pos</td>\n",
       "      <td>0.0</td>\n",
       "      <td>0.0</td>\n",
       "      <td>1.0</td>\n",
       "      <td>0.0</td>\n",
       "      <td>1.0</td>\n",
       "      <td>0.0</td>\n",
       "      <td>0.180729</td>\n",
       "      <td>-0.034253</td>\n",
       "      <td>-0.007357</td>\n",
       "      <td>...</td>\n",
       "      <td>0.021574</td>\n",
       "      <td>0.278756</td>\n",
       "      <td>0.060132</td>\n",
       "      <td>-0.295516</td>\n",
       "      <td>-0.123788</td>\n",
       "      <td>0.117804</td>\n",
       "      <td>-0.156616</td>\n",
       "      <td>-0.108647</td>\n",
       "      <td>0.454259</td>\n",
       "      <td>0.123385</td>\n",
       "    </tr>\n",
       "    <tr>\n",
       "      <th>2</th>\n",
       "      <td>pos</td>\n",
       "      <td>0.0</td>\n",
       "      <td>0.0</td>\n",
       "      <td>1.0</td>\n",
       "      <td>0.0</td>\n",
       "      <td>1.0</td>\n",
       "      <td>0.0</td>\n",
       "      <td>0.014433</td>\n",
       "      <td>-0.187421</td>\n",
       "      <td>0.032284</td>\n",
       "      <td>...</td>\n",
       "      <td>0.225268</td>\n",
       "      <td>0.101662</td>\n",
       "      <td>-0.002514</td>\n",
       "      <td>-0.092069</td>\n",
       "      <td>-0.191231</td>\n",
       "      <td>0.003927</td>\n",
       "      <td>-0.048874</td>\n",
       "      <td>-0.169493</td>\n",
       "      <td>0.404920</td>\n",
       "      <td>0.206606</td>\n",
       "    </tr>\n",
       "    <tr>\n",
       "      <th>3</th>\n",
       "      <td>pos</td>\n",
       "      <td>1.0</td>\n",
       "      <td>0.0</td>\n",
       "      <td>0.0</td>\n",
       "      <td>1.0</td>\n",
       "      <td>0.0</td>\n",
       "      <td>0.0</td>\n",
       "      <td>0.102713</td>\n",
       "      <td>-0.122163</td>\n",
       "      <td>0.167701</td>\n",
       "      <td>...</td>\n",
       "      <td>0.075651</td>\n",
       "      <td>0.053715</td>\n",
       "      <td>0.042065</td>\n",
       "      <td>-0.074095</td>\n",
       "      <td>-0.325612</td>\n",
       "      <td>-0.029785</td>\n",
       "      <td>0.063639</td>\n",
       "      <td>0.030749</td>\n",
       "      <td>0.490816</td>\n",
       "      <td>0.076445</td>\n",
       "    </tr>\n",
       "    <tr>\n",
       "      <th>4</th>\n",
       "      <td>pos</td>\n",
       "      <td>1.0</td>\n",
       "      <td>0.0</td>\n",
       "      <td>0.0</td>\n",
       "      <td>1.0</td>\n",
       "      <td>0.0</td>\n",
       "      <td>0.0</td>\n",
       "      <td>0.123185</td>\n",
       "      <td>-0.057500</td>\n",
       "      <td>0.164821</td>\n",
       "      <td>...</td>\n",
       "      <td>0.220945</td>\n",
       "      <td>0.070169</td>\n",
       "      <td>-0.045384</td>\n",
       "      <td>-0.023608</td>\n",
       "      <td>-0.403638</td>\n",
       "      <td>-0.047966</td>\n",
       "      <td>0.021852</td>\n",
       "      <td>-0.119835</td>\n",
       "      <td>0.352950</td>\n",
       "      <td>0.071742</td>\n",
       "    </tr>\n",
       "    <tr>\n",
       "      <th>...</th>\n",
       "      <td>...</td>\n",
       "      <td>...</td>\n",
       "      <td>...</td>\n",
       "      <td>...</td>\n",
       "      <td>...</td>\n",
       "      <td>...</td>\n",
       "      <td>...</td>\n",
       "      <td>...</td>\n",
       "      <td>...</td>\n",
       "      <td>...</td>\n",
       "      <td>...</td>\n",
       "      <td>...</td>\n",
       "      <td>...</td>\n",
       "      <td>...</td>\n",
       "      <td>...</td>\n",
       "      <td>...</td>\n",
       "      <td>...</td>\n",
       "      <td>...</td>\n",
       "      <td>...</td>\n",
       "      <td>...</td>\n",
       "      <td>...</td>\n",
       "    </tr>\n",
       "    <tr>\n",
       "      <th>3254</th>\n",
       "      <td>neg</td>\n",
       "      <td>1.0</td>\n",
       "      <td>0.0</td>\n",
       "      <td>0.0</td>\n",
       "      <td>0.0</td>\n",
       "      <td>1.0</td>\n",
       "      <td>0.0</td>\n",
       "      <td>0.045362</td>\n",
       "      <td>-0.110592</td>\n",
       "      <td>-0.060787</td>\n",
       "      <td>...</td>\n",
       "      <td>0.083572</td>\n",
       "      <td>0.117578</td>\n",
       "      <td>-0.050548</td>\n",
       "      <td>-0.240905</td>\n",
       "      <td>-0.065884</td>\n",
       "      <td>0.097666</td>\n",
       "      <td>-0.186384</td>\n",
       "      <td>-0.357412</td>\n",
       "      <td>0.373521</td>\n",
       "      <td>0.311909</td>\n",
       "    </tr>\n",
       "    <tr>\n",
       "      <th>3255</th>\n",
       "      <td>neg</td>\n",
       "      <td>1.0</td>\n",
       "      <td>0.0</td>\n",
       "      <td>0.0</td>\n",
       "      <td>0.0</td>\n",
       "      <td>1.0</td>\n",
       "      <td>0.0</td>\n",
       "      <td>0.135307</td>\n",
       "      <td>-0.096323</td>\n",
       "      <td>-0.107072</td>\n",
       "      <td>...</td>\n",
       "      <td>0.041132</td>\n",
       "      <td>0.226143</td>\n",
       "      <td>-0.060794</td>\n",
       "      <td>-0.271573</td>\n",
       "      <td>-0.233932</td>\n",
       "      <td>0.017458</td>\n",
       "      <td>0.101868</td>\n",
       "      <td>0.061758</td>\n",
       "      <td>0.432194</td>\n",
       "      <td>0.132932</td>\n",
       "    </tr>\n",
       "    <tr>\n",
       "      <th>3256</th>\n",
       "      <td>neg</td>\n",
       "      <td>1.0</td>\n",
       "      <td>0.0</td>\n",
       "      <td>0.0</td>\n",
       "      <td>0.0</td>\n",
       "      <td>0.0</td>\n",
       "      <td>1.0</td>\n",
       "      <td>-0.003029</td>\n",
       "      <td>-0.035019</td>\n",
       "      <td>-0.003800</td>\n",
       "      <td>...</td>\n",
       "      <td>0.176898</td>\n",
       "      <td>0.235542</td>\n",
       "      <td>-0.309587</td>\n",
       "      <td>-0.118536</td>\n",
       "      <td>-0.236206</td>\n",
       "      <td>0.157906</td>\n",
       "      <td>0.145540</td>\n",
       "      <td>-0.052904</td>\n",
       "      <td>0.599252</td>\n",
       "      <td>-0.017703</td>\n",
       "    </tr>\n",
       "    <tr>\n",
       "      <th>3257</th>\n",
       "      <td>neg</td>\n",
       "      <td>1.0</td>\n",
       "      <td>0.0</td>\n",
       "      <td>0.0</td>\n",
       "      <td>0.0</td>\n",
       "      <td>1.0</td>\n",
       "      <td>0.0</td>\n",
       "      <td>-0.018971</td>\n",
       "      <td>-0.178611</td>\n",
       "      <td>-0.049338</td>\n",
       "      <td>...</td>\n",
       "      <td>-0.021237</td>\n",
       "      <td>0.263314</td>\n",
       "      <td>-0.019418</td>\n",
       "      <td>-0.325118</td>\n",
       "      <td>-0.068818</td>\n",
       "      <td>-0.095046</td>\n",
       "      <td>0.113397</td>\n",
       "      <td>0.029055</td>\n",
       "      <td>0.335391</td>\n",
       "      <td>0.223715</td>\n",
       "    </tr>\n",
       "    <tr>\n",
       "      <th>3258</th>\n",
       "      <td>neu</td>\n",
       "      <td>0.0</td>\n",
       "      <td>1.0</td>\n",
       "      <td>0.0</td>\n",
       "      <td>1.0</td>\n",
       "      <td>0.0</td>\n",
       "      <td>0.0</td>\n",
       "      <td>0.116796</td>\n",
       "      <td>-0.178244</td>\n",
       "      <td>0.107261</td>\n",
       "      <td>...</td>\n",
       "      <td>-0.023487</td>\n",
       "      <td>0.140248</td>\n",
       "      <td>0.096510</td>\n",
       "      <td>-0.230313</td>\n",
       "      <td>-0.297580</td>\n",
       "      <td>-0.073714</td>\n",
       "      <td>-0.069468</td>\n",
       "      <td>-0.119313</td>\n",
       "      <td>0.249925</td>\n",
       "      <td>0.050214</td>\n",
       "    </tr>\n",
       "  </tbody>\n",
       "</table>\n",
       "<p>3259 rows × 307 columns</p>\n",
       "</div>"
      ],
      "text/plain": [
       "     target    a    b    c    d    e    f         0         1         2  ...  \\\n",
       "0       neu  0.0  1.0  0.0  1.0  0.0  0.0  0.006560 -0.034674  0.180679  ...   \n",
       "1       pos  0.0  0.0  1.0  0.0  1.0  0.0  0.180729 -0.034253 -0.007357  ...   \n",
       "2       pos  0.0  0.0  1.0  0.0  1.0  0.0  0.014433 -0.187421  0.032284  ...   \n",
       "3       pos  1.0  0.0  0.0  1.0  0.0  0.0  0.102713 -0.122163  0.167701  ...   \n",
       "4       pos  1.0  0.0  0.0  1.0  0.0  0.0  0.123185 -0.057500  0.164821  ...   \n",
       "...     ...  ...  ...  ...  ...  ...  ...       ...       ...       ...  ...   \n",
       "3254    neg  1.0  0.0  0.0  0.0  1.0  0.0  0.045362 -0.110592 -0.060787  ...   \n",
       "3255    neg  1.0  0.0  0.0  0.0  1.0  0.0  0.135307 -0.096323 -0.107072  ...   \n",
       "3256    neg  1.0  0.0  0.0  0.0  0.0  1.0 -0.003029 -0.035019 -0.003800  ...   \n",
       "3257    neg  1.0  0.0  0.0  0.0  1.0  0.0 -0.018971 -0.178611 -0.049338  ...   \n",
       "3258    neu  0.0  1.0  0.0  1.0  0.0  0.0  0.116796 -0.178244  0.107261  ...   \n",
       "\n",
       "          90.1      91.1      92.1      93.1      94.1      95.1      96.1  \\\n",
       "0     0.132200  0.093612  0.134560 -0.090816 -0.093931  0.006347  0.067203   \n",
       "1     0.021574  0.278756  0.060132 -0.295516 -0.123788  0.117804 -0.156616   \n",
       "2     0.225268  0.101662 -0.002514 -0.092069 -0.191231  0.003927 -0.048874   \n",
       "3     0.075651  0.053715  0.042065 -0.074095 -0.325612 -0.029785  0.063639   \n",
       "4     0.220945  0.070169 -0.045384 -0.023608 -0.403638 -0.047966  0.021852   \n",
       "...        ...       ...       ...       ...       ...       ...       ...   \n",
       "3254  0.083572  0.117578 -0.050548 -0.240905 -0.065884  0.097666 -0.186384   \n",
       "3255  0.041132  0.226143 -0.060794 -0.271573 -0.233932  0.017458  0.101868   \n",
       "3256  0.176898  0.235542 -0.309587 -0.118536 -0.236206  0.157906  0.145540   \n",
       "3257 -0.021237  0.263314 -0.019418 -0.325118 -0.068818 -0.095046  0.113397   \n",
       "3258 -0.023487  0.140248  0.096510 -0.230313 -0.297580 -0.073714 -0.069468   \n",
       "\n",
       "          97.1      98.1      99.1  \n",
       "0    -0.296446  0.236455  0.319731  \n",
       "1    -0.108647  0.454259  0.123385  \n",
       "2    -0.169493  0.404920  0.206606  \n",
       "3     0.030749  0.490816  0.076445  \n",
       "4    -0.119835  0.352950  0.071742  \n",
       "...        ...       ...       ...  \n",
       "3254 -0.357412  0.373521  0.311909  \n",
       "3255  0.061758  0.432194  0.132932  \n",
       "3256 -0.052904  0.599252 -0.017703  \n",
       "3257  0.029055  0.335391  0.223715  \n",
       "3258 -0.119313  0.249925  0.050214  \n",
       "\n",
       "[3259 rows x 307 columns]"
      ]
     },
     "execution_count": 1,
     "metadata": {},
     "output_type": "execute_result"
    }
   ],
   "source": [
    "from IPython.display import display\n",
    "import pandas as pd\n",
    "import numpy as np\n",
    "\n",
    "df=pd.read_csv(\"model_data_4.csv\")\n",
    "df"
   ]
  },
  {
   "cell_type": "code",
   "execution_count": 2,
   "metadata": {},
   "outputs": [],
   "source": [
    "# Syntax: droping y/target variable then use remainder with ->> df.drop(['target'], axis=1)"
   ]
  },
  {
   "cell_type": "code",
   "execution_count": 3,
   "metadata": {},
   "outputs": [],
   "source": [
    "from sklearn.model_selection import train_test_split\n",
    "\n",
    "# Split data in train test set using scikitlearn tr-t-s() funtion and  syntax below:\n",
    "train, test = train_test_split(df, test_size=0.3, random_state=42)        # 30% test set split\n",
    "X_train = train.drop(['target'], axis=1).values     #should remain 306 features\n",
    "X_test = test.drop(['target'], axis=1).values\n",
    "y_train = train['target']\n",
    "y_test = test['target']\n",
    "\n",
    "# Or Alternatively:::\n",
    "# use pandas sampling funtion to Split Data into Training and test sets:\n",
    "# df_copy = df.copy()\n",
    "# df_train = df_copy.sample(frac=0.70, random_state=1)\n",
    "# df_test = df_copy.drop(df_train.index)\n",
    "# \n",
    "# print(df_train.shape)\n",
    "# print(df_test.shape)"
   ]
  },
  {
   "cell_type": "code",
   "execution_count": 4,
   "metadata": {},
   "outputs": [
    {
     "name": "stdout",
     "output_type": "stream",
     "text": [
      "(2281, 306)\n",
      "(978, 306)\n",
      "(2281,)\n",
      "(978,)\n"
     ]
    }
   ],
   "source": [
    "print(X_train.shape) \n",
    "print(X_test.shape)\n",
    "print(y_train.shape) \n",
    "print(y_test.shape)"
   ]
  },
  {
   "cell_type": "code",
   "execution_count": 5,
   "metadata": {},
   "outputs": [
    {
     "data": {
      "text/plain": [
       "<AxesSubplot:>"
      ]
     },
     "execution_count": 5,
     "metadata": {},
     "output_type": "execute_result"
    },
    {
     "data": {
      "image/png": "[encoded data removed]",
      "text/plain": [
       "<Figure size 432x288 with 1 Axes>"
      ]
     },
     "metadata": {
      "needs_background": "light"
     },
     "output_type": "display_data"
    }
   ],
   "source": [
    "# observe distribution to see if labels are unbalanced and need undersampling/Oversampling techniques applied \n",
    "train['target'].value_counts().plot(kind='bar')\n"
   ]
  },
  {
   "cell_type": "code",
   "execution_count": 6,
   "metadata": {},
   "outputs": [
    {
     "data": {
      "text/plain": [
       "<AxesSubplot:>"
      ]
     },
     "execution_count": 6,
     "metadata": {},
     "output_type": "execute_result"
    },
    {
     "data": {
      "image/png": "[encoded data removed]",
      "text/plain": [
       "<Figure size 432x288 with 1 Axes>"
      ]
     },
     "metadata": {
      "needs_background": "light"
     },
     "output_type": "display_data"
    }
   ],
   "source": [
    "test['target'].value_counts().plot(kind='bar')"
   ]
  },
  {
   "cell_type": "markdown",
   "metadata": {},
   "source": [
    "<h3> SVM(support Vector Machine) Model ::: </h3>\n",
    "\n",
    "<p> S/N:: Logistic regression implemtation may need one-hot-encoded target variables because y variable contains >2 multiclass labels\n",
    " Different parameters from default will need to be applied due to multiclass label\n",
    "</p>\n"
   ]
  },
  {
   "cell_type": "code",
   "execution_count": 7,
   "metadata": {},
   "outputs": [
    {
     "name": "stdout",
     "output_type": "stream",
     "text": [
      "SVM Model Accuracy: Mean:0.6576055312954876   S.D: 0.031538489457216906\n"
     ]
    }
   ],
   "source": [
    "from sklearn import svm\n",
    "from sklearn import model_selection           #for implementing cross validation\n",
    "\n",
    "svc = svm.SVC(kernel='linear', C=1, probability=True)     # Initiate SVM model\n",
    "\n",
    "kfold = model_selection.KFold(n_splits=10, shuffle=True, random_state=7)   # 10 K-fold Cross validation\n",
    "\n",
    "cv_results = model_selection.cross_val_score(svc, X_train, y_train, cv=kfold, scoring='accuracy')  # results\n",
    "\n",
    "print(f\"SVM Model Accuracy: Mean:{cv_results.mean()}   S.D: {cv_results.std()}\")\n",
    "\n",
    "## training the model\n",
    "#prediction = svc.predict_proba(xvalid_bow) \n",
    "#prediction_int = prediction[:,1] >= 0.3 \n",
    "#prediction_int = prediction_int.astype(np.int) \n",
    "#f1_score(yvalid, prediction_int)"
   ]
  },
  {
   "cell_type": "markdown",
   "metadata": {},
   "source": [
    "<h3> Random Forest Classifier ::: </h3>\n",
    "\n",
    "S/N: Micro- and macro-averages (for whatever metric) will compute slightly different things, and thus their interpretation differs. A macro-average will compute the metric independently for each class and then take the average (hence treating all classes equally), whereas a micro-average will aggregate the contributions of all classes to compute the average metric. In a multi-class classification setup, micro-average is preferable if you suspect there might be class imbalance (i.e you may have many more examples of one class than of other classes)."
   ]
  },
  {
   "cell_type": "code",
   "execution_count": 8,
   "metadata": {},
   "outputs": [
    {
     "name": "stdout",
     "output_type": "stream",
     "text": [
      "Random Forrest Model Accuracy: Mean:0.9943001608825558   S.D: 0.003948010973404544\n"
     ]
    }
   ],
   "source": [
    "from sklearn.ensemble import RandomForestClassifier\n",
    "\n",
    "rf = RandomForestClassifier(n_estimators=400, random_state=11)\n",
    "\n",
    "rf_results = model_selection.cross_val_score(rf, X_train, y_train, cv=kfold, scoring='accuracy') \n",
    "\n",
    "print(f\"Random Forrest Model Accuracy: Mean:{rf_results.mean()}   S.D: {rf_results.std()}\")"
   ]
  },
  {
   "cell_type": "markdown",
   "metadata": {},
   "source": [
    "<h3> MultiLayer Perceptron (MLP) ::: </h3>\n"
   ]
  },
  {
   "cell_type": "code",
   "execution_count": 9,
   "metadata": {},
   "outputs": [
    {
     "name": "stderr",
     "output_type": "stream",
     "text": [
      "C:\\Users\\malik\\miniconda3\\envs\\tensor2.5\\lib\\site-packages\\sklearn\\neural_network\\_multilayer_perceptron.py:500: ConvergenceWarning: lbfgs failed to converge (status=1):\n",
      "STOP: TOTAL NO. of ITERATIONS REACHED LIMIT.\n",
      "\n",
      "Increase the number of iterations (max_iter) or scale the data as shown in:\n",
      "    https://scikit-learn.org/stable/modules/preprocessing.html\n",
      "  self.n_iter_ = _check_optimize_result(\"lbfgs\", opt_res, self.max_iter)\n",
      "C:\\Users\\malik\\miniconda3\\envs\\tensor2.5\\lib\\site-packages\\sklearn\\neural_network\\_multilayer_perceptron.py:500: ConvergenceWarning: lbfgs failed to converge (status=1):\n",
      "STOP: TOTAL NO. of ITERATIONS REACHED LIMIT.\n",
      "\n",
      "Increase the number of iterations (max_iter) or scale the data as shown in:\n",
      "    https://scikit-learn.org/stable/modules/preprocessing.html\n",
      "  self.n_iter_ = _check_optimize_result(\"lbfgs\", opt_res, self.max_iter)\n",
      "C:\\Users\\malik\\miniconda3\\envs\\tensor2.5\\lib\\site-packages\\sklearn\\neural_network\\_multilayer_perceptron.py:500: ConvergenceWarning: lbfgs failed to converge (status=1):\n",
      "STOP: TOTAL NO. of ITERATIONS REACHED LIMIT.\n",
      "\n",
      "Increase the number of iterations (max_iter) or scale the data as shown in:\n",
      "    https://scikit-learn.org/stable/modules/preprocessing.html\n",
      "  self.n_iter_ = _check_optimize_result(\"lbfgs\", opt_res, self.max_iter)\n"
     ]
    },
    {
     "name": "stdout",
     "output_type": "stream",
     "text": [
      "Multlayer Perceptron Model Accuracy: Mean: 0.7295602543476596  S.D: 0.13301088995562096\n"
     ]
    }
   ],
   "source": [
    "from sklearn.neural_network import MLPClassifier\n",
    "from sklearn.preprocessing import StandardScaler\n",
    "\n",
    "#Multi-layer Perceptron is sensitive to feature scaling, so it is highly recommended to scale your data  \n",
    "scaler = StandardScaler()  \n",
    "scaler.fit(X_train)  \n",
    "# Transform X train data\n",
    "X_train = scaler.transform(X_train)  \n",
    "# Transform X test data\n",
    "X_test = scaler.transform(X_test)  \n",
    "\n",
    "mlp = MLPClassifier(solver='lbfgs', hidden_layer_sizes=(2,3), max_iter=2000, activation='logistic')\n",
    "\n",
    "mlp_results = model_selection.cross_val_score(mlp, X_train, y_train, cv=kfold, scoring='accuracy')\n",
    "\n",
    "print(f\"Multlayer Perceptron Model Accuracy: Mean: {mlp_results.mean()}  S.D: {mlp_results.std()}\")"
   ]
  },
  {
   "cell_type": "code",
   "execution_count": 10,
   "metadata": {},
   "outputs": [
    {
     "name": "stderr",
     "output_type": "stream",
     "text": [
      "C:\\Users\\malik\\miniconda3\\envs\\tensor2.5\\lib\\site-packages\\sklearn\\neural_network\\_multilayer_perceptron.py:500: ConvergenceWarning: lbfgs failed to converge (status=1):\n",
      "STOP: TOTAL NO. of ITERATIONS REACHED LIMIT.\n",
      "\n",
      "Increase the number of iterations (max_iter) or scale the data as shown in:\n",
      "    https://scikit-learn.org/stable/modules/preprocessing.html\n",
      "  self.n_iter_ = _check_optimize_result(\"lbfgs\", opt_res, self.max_iter)\n"
     ]
    },
    {
     "name": "stdout",
     "output_type": "stream",
     "text": [
      "Best parameters set found on development set:\n",
      "{'activation': 'logistic', 'hidden_layer_sizes': (3,), 'max_iter': 2000, 'solver': 'adam'}\n"
     ]
    }
   ],
   "source": [
    "# Implementing Grid Search to explore the hyperparameters on MLP\n",
    "\n",
    "from sklearn.model_selection import GridSearchCV\n",
    "\n",
    "param_grid = [\n",
    "        {\n",
    "            'activation' : ['identity', 'logistic'],\n",
    "            'solver' : ['lbfgs', 'adam'],\n",
    "            'hidden_layer_sizes': [\n",
    "             (1,2),(2,3),(3,),(4,),(5,),(10,),(12,4),(16,2),(17,),(18,),(20,)\n",
    "             ],\n",
    "            'max_iter' : [2000]\n",
    "        }\n",
    "       ]\n",
    "\n",
    "clf = GridSearchCV(MLPClassifier(), param_grid, cv=3,\n",
    "                           scoring='accuracy')\n",
    "clf.fit(X_train,y_train)\n",
    "\n",
    "\n",
    "print(\"Best parameters set found on development set:\")\n",
    "print(clf.best_params_)\n"
   ]
  },
  {
   "cell_type": "code",
   "execution_count": 11,
   "metadata": {},
   "outputs": [
    {
     "name": "stdout",
     "output_type": "stream",
     "text": [
      "MLPClassifier(activation='logistic', hidden_layer_sizes=(3,), max_iter=2000)\n",
      "1.0\n",
      "{'activation': 'logistic', 'hidden_layer_sizes': (3,), 'max_iter': 2000, 'solver': 'adam'}\n"
     ]
    }
   ],
   "source": [
    "#clf.cv_results_ \n",
    "bestModel = clf.best_estimator_\n",
    "print(bestModel)\n",
    "print(clf.best_score_)\n",
    "print(clf.best_params_)"
   ]
  },
  {
   "cell_type": "code",
   "execution_count": 12,
   "metadata": {},
   "outputs": [],
   "source": [
    "mlp2 = MLPClassifier(solver='adam', hidden_layer_sizes=(12, 4), max_iter=2000, activation='logistic').fit(X_train,y_train)\n",
    "y_pred = mlp2.predict(X_test)\n"
   ]
  },
  {
   "cell_type": "markdown",
   "metadata": {},
   "source": [
    "<h3> Evaluation Metrics for 'final selected model'</h3>"
   ]
  },
  {
   "cell_type": "code",
   "execution_count": 13,
   "metadata": {},
   "outputs": [
    {
     "name": "stdout",
     "output_type": "stream",
     "text": [
      "Model F1 Score is: 1.0\n",
      "Model Accuracy is: 1.0\n",
      "Model Precision is: 1.0\n",
      "Model Recall is: 1.0\n",
      "\n",
      "              precision    recall  f1-score   support\n",
      "\n",
      "         neg       1.00      1.00      1.00       379\n",
      "         neu       1.00      1.00      1.00       182\n",
      "         pos       1.00      1.00      1.00       417\n",
      "\n",
      "    accuracy                           1.00       978\n",
      "   macro avg       1.00      1.00      1.00       978\n",
      "weighted avg       1.00      1.00      1.00       978\n",
      "\n"
     ]
    }
   ],
   "source": [
    "from sklearn.metrics import f1_score\n",
    "from sklearn.metrics import accuracy_score\n",
    "from sklearn import metrics\n",
    "from sklearn.metrics import classification_report\n",
    "\n",
    "\n",
    "print(f\"Model F1 Score is: {f1_score(y_test, y_pred, average='macro')}\")\n",
    "print(f\"Model Accuracy is: {accuracy_score(y_test, y_pred)}\")\n",
    "print(f\"Model Precision is: {metrics.precision_score(y_test, y_pred, average='micro')}\")\n",
    "print(f\"Model Recall is: {metrics.recall_score(y_test, y_pred, average='macro')}\")\n",
    "print(end='\\n')\n",
    "\n",
    "# Return Sturctured Classification Report\n",
    "print(classification_report(y_test, y_pred))\n",
    "\n",
    "\n",
    "\n"
   ]
  },
  {
   "cell_type": "code",
   "execution_count": 14,
   "metadata": {},
   "outputs": [
    {
     "data": {
      "image/png": "[encoded data removed]",
      "text/plain": [
       "<Figure size 432x288 with 2 Axes>"
      ]
     },
     "metadata": {
      "needs_background": "light"
     },
     "output_type": "display_data"
    }
   ],
   "source": [
    "# Generate a confusion Matrix plot\n",
    "from sklearn.metrics import ConfusionMatrixDisplay\n",
    "from sklearn.metrics import confusion_matrix\n",
    "import matplotlib.pyplot as plt\n",
    "\n",
    "cm = confusion_matrix(y_test, y_pred, labels=mlp2.classes_) #can add normalise args (normalize='all'/'pred'/'true')\n",
    "disp = ConfusionMatrixDisplay(confusion_matrix=cm, display_labels=clf.classes_)\n",
    "disp.plot()\n",
    "plt.show()\n"
   ]
  },
  {
   "cell_type": "markdown",
   "metadata": {},
   "source": [
    "# Deployment:"
   ]
  },
  {
   "cell_type": "code",
   "execution_count": 15,
   "metadata": {},
   "outputs": [],
   "source": [
    "## save model\n",
    "import pickle\n",
    "pickle.dump(mlp2, open(\"savedmodel.sav\", 'wb'))\n",
    "\n",
    "## some time later...\n",
    "## load the model from disk\n",
    "#rf2 = pickle.load(open(\"savedmodel.sav\", 'rb'))\n",
    "#pred = mlp2.predict(X_test)"
   ]
  },
  {
   "cell_type": "markdown",
   "metadata": {},
   "source": [
    "Conclusion:\n",
    "\n",
    "It can be observed that both Random Forest and Neural Network(MLP) models performs well compared to linear support vector machines."
   ]
  },
  {
   "cell_type": "markdown",
   "metadata": {},
   "source": [
    "# ..."
   ]
  },
  {
   "cell_type": "markdown",
   "metadata": {},
   "source": [
    "# ....."
   ]
  },
  {
   "cell_type": "markdown",
   "metadata": {},
   "source": [
    "# Limitations and other considerations\n",
    "\n",
    "A lot has been considerd in this research but still there is plenty of room for other things to try out.\n",
    "\n",
    "We have built so many models, we can definitely try model ensembling.\n",
    "\n",
    "Take out Parts-of-Speech tagging and try creating with new features with stemming or without any stem/lemma.\n",
    "\n",
    "Use bi-grams or tri-grams (tokens of 2 or 3 words respectively) for Bag-of-Words and TF-IDF then build models using these features\n",
    "\n",
    "We can give pretrained word-embeddings models a try as the embedding learned from the data is not very accurate and doesn't perform well without the additional features\n",
    "\n",
    "<p>Others: Try implementing LTSM Neural Network using logic demonstated <a href:\"https://www.kaggle.com/kritanjalijain/twitter-sentiment-analysis-lstm\"> on this Kaggle Notebook </a></p>"
   ]
  }
 ],
 "metadata": {
  "interpreter": {
   "hash": "035b9c71e4a3a67db39a7728b05f0df5cc8b8760f61dc7a461f1625dbaae32b6"
  },
  "kernelspec": {
   "display_name": "Python 3.9.5 64-bit ('tensor2.5': conda)",
   "language": "python",
   "name": "python3"
  },
  "language_info": {
   "codemirror_mode": {
    "name": "ipython",
    "version": 3
   },
   "file_extension": ".py",
   "mimetype": "text/x-python",
   "name": "python",
   "nbconvert_exporter": "python",
   "pygments_lexer": "ipython3",
   "version": "3.9.5"
  },
  "orig_nbformat": 4
 },
 "nbformat": 4,
 "nbformat_minor": 2
}
